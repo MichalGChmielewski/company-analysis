{
    "metadata": {
        "kernelspec": {
            "name": "SQL",
            "display_name": "SQL",
            "language": "sql"
        },
        "language_info": {
            "name": "sql",
            "version": ""
        }
    },
    "nbformat_minor": 2,
    "nbformat": 4,
    "cells": [
        {
            "cell_type": "markdown",
            "source": [
                "### **Customer Analysis in the Database**"
            ],
            "metadata": {
                "azdata_cell_guid": "add2f168-7596-433d-a47f-d42fe2319509"
            },
            "attachments": {}
        },
        {
            "cell_type": "markdown",
            "source": [
                "<span style=\"color: var(--vscode-foreground);\">The number of orders placed by each customer</span>"
            ],
            "metadata": {
                "azdata_cell_guid": "f1b1eb7b-5943-4ca9-9a0b-7e91ed4082a9"
            },
            "attachments": {}
        },
        {
            "cell_type": "code",
            "source": [
                "SELECT \r\n",
                "    c.CustomerID,\r\n",
                "    c.FirstName,\r\n",
                "    c.LastName,\r\n",
                "    COUNT(soh.SalesOrderID) AS TotalOrders\r\n",
                "FROM \r\n",
                "    SalesLT.SalesOrderHeader soh\r\n",
                "JOIN \r\n",
                "    SalesLT.Customer c ON soh.CustomerID = c.CustomerID\r\n",
                "GROUP BY \r\n",
                "    c.CustomerID, c.FirstName, c.LastName\r\n",
                "ORDER BY \r\n",
                "    TotalOrders DESC;"
            ],
            "metadata": {
                "azdata_cell_guid": "7d90594f-0e7d-489a-b441-c5be4c75a833",
                "language": "sql",
                "tags": []
            },
            "outputs": [],
            "execution_count": null
        },
        {
            "cell_type": "markdown",
            "source": [
                "The average value of an order placed by a customer"
            ],
            "metadata": {
                "azdata_cell_guid": "4a882de6-d720-4e00-acbf-8c24f724e392"
            },
            "attachments": {}
        },
        {
            "cell_type": "code",
            "source": [
                "SELECT \r\n",
                "    c.CustomerID,\r\n",
                "    c.FirstName,\r\n",
                "    c.LastName,\r\n",
                "    AVG(soh.TotalDue) AS AverageOrderValue\r\n",
                "FROM \r\n",
                "    SalesLT.SalesOrderHeader soh\r\n",
                "JOIN \r\n",
                "    SalesLT.Customer c ON soh.CustomerID = c.CustomerID\r\n",
                "GROUP BY \r\n",
                "    c.CustomerID, c.FirstName, c.LastName\r\n",
                "ORDER BY \r\n",
                "    AverageOrderValue DESC;"
            ],
            "metadata": {
                "azdata_cell_guid": "8a013a7f-8b47-460d-96a6-d6a21c68fb48",
                "language": "sql"
            },
            "outputs": [],
            "execution_count": null
        },
        {
            "cell_type": "markdown",
            "source": [
                "The largest order placed by each customer"
            ],
            "metadata": {
                "azdata_cell_guid": "e7fd9afc-5eab-4719-8426-c467577ee6a4"
            },
            "attachments": {}
        },
        {
            "cell_type": "code",
            "source": [
                "SELECT \r\n",
                "    c.CustomerID,\r\n",
                "    c.FirstName,\r\n",
                "    c.LastName,\r\n",
                "    MAX(soh.TotalDue) AS MaxOrderValue\r\n",
                "FROM \r\n",
                "    SalesLT.SalesOrderHeader soh\r\n",
                "JOIN \r\n",
                "    SalesLT.Customer c ON soh.CustomerID = c.CustomerID\r\n",
                "GROUP BY \r\n",
                "    c.CustomerID, c.FirstName, c.LastName;"
            ],
            "metadata": {
                "azdata_cell_guid": "86b7b305-9bf4-44d8-b2f9-11f5b3afcc25",
                "language": "sql"
            },
            "outputs": [],
            "execution_count": null
        },
        {
            "cell_type": "markdown",
            "source": [
                "Customers who made a purchase in the last 20 years"
            ],
            "metadata": {
                "azdata_cell_guid": "393e37db-cb73-4b30-b85e-8dc3046c9ef8"
            },
            "attachments": {}
        },
        {
            "cell_type": "code",
            "source": [
                "SELECT \r\n",
                "    c.CustomerID,\r\n",
                "    c.FirstName,\r\n",
                "    c.LastName,\r\n",
                "    COUNT(soh.SalesOrderID) AS OrdersLast20Years\r\n",
                "FROM \r\n",
                "    SalesLT.SalesOrderHeader soh\r\n",
                "JOIN \r\n",
                "    SalesLT.Customer c ON soh.CustomerID = c.CustomerID\r\n",
                "WHERE \r\n",
                "    soh.OrderDate >= DATEADD(YEAR, -20, GETDATE())\r\n",
                "GROUP BY \r\n",
                "    c.CustomerID, c.FirstName, c.LastName;"
            ],
            "metadata": {
                "azdata_cell_guid": "cbf69655-8b42-4ebd-9726-152aaa7a087f",
                "language": "sql"
            },
            "outputs": [],
            "execution_count": null
        },
        {
            "cell_type": "markdown",
            "source": [
                "Customers with the highest average order value"
            ],
            "metadata": {
                "azdata_cell_guid": "a7afdcaf-9d9d-4b84-838b-a91ea1a2aa98"
            },
            "attachments": {}
        },
        {
            "cell_type": "code",
            "source": [
                "SELECT \r\n",
                "    c.CustomerID,\r\n",
                "    c.FirstName,\r\n",
                "    c.LastName,\r\n",
                "    AVG(soh.TotalDue) AS AverageOrderValue\r\n",
                "FROM \r\n",
                "    SalesLT.SalesOrderHeader soh\r\n",
                "JOIN \r\n",
                "    SalesLT.Customer c ON soh.CustomerID = c.CustomerID\r\n",
                "GROUP BY \r\n",
                "    c.CustomerID, c.FirstName, c.LastName\r\n",
                "HAVING \r\n",
                "    AVG(soh.TotalDue) > 1000\r\n",
                "ORDER BY \r\n",
                "    AverageOrderValue DESC;"
            ],
            "metadata": {
                "azdata_cell_guid": "38c34d91-d0aa-48cf-a492-07b7e82c465b",
                "language": "sql"
            },
            "outputs": [],
            "execution_count": 1
        }
    ]
}