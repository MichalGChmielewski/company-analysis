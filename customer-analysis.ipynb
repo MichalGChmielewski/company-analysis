{
    "metadata": {
        "kernelspec": {
            "name": "SQL",
            "display_name": "SQL",
            "language": "sql"
        },
        "language_info": {
            "name": "sql",
            "version": ""
        }
    },
    "nbformat_minor": 2,
    "nbformat": 4,
    "cells": [
        {
            "cell_type": "markdown",
            "source": [
                "### **Customer Analysis in the Database**"
            ],
            "metadata": {
                "azdata_cell_guid": "add2f168-7596-433d-a47f-d42fe2319509"
            },
            "attachments": {}
        },
        {
            "cell_type": "markdown",
            "source": [
                "Liczba zamówień złożonych przez każdego klienta"
            ],
            "metadata": {
                "azdata_cell_guid": "f1b1eb7b-5943-4ca9-9a0b-7e91ed4082a9"
            },
            "attachments": {}
        },
        {
            "cell_type": "code",
            "source": [
                "SELECT \r\n",
                "    c.CustomerID,\r\n",
                "    c.FirstName,\r\n",
                "    c.LastName,\r\n",
                "    COUNT(soh.SalesOrderID) AS TotalOrders\r\n",
                "FROM \r\n",
                "    SalesLT.SalesOrderHeader soh\r\n",
                "JOIN \r\n",
                "    SalesLT.Customer c ON soh.CustomerID = c.CustomerID\r\n",
                "GROUP BY \r\n",
                "    c.CustomerID, c.FirstName, c.LastName\r\n",
                "ORDER BY \r\n",
                "    TotalOrders DESC;"
            ],
            "metadata": {
                "azdata_cell_guid": "7d90594f-0e7d-489a-b441-c5be4c75a833",
                "language": "sql",
                "tags": []
            },
            "outputs": [
{
    "output_type": "display_data",
    "data": {
        "text/html": "(32 rows affected)"
    },
    "metadata": {}
}, {
    "output_type": "display_data",
    "data": {
        "text/html": "Total execution time: 00:00:00.063"
    },
    "metadata": {}
}, {
    "output_type": "execute_result",
    "metadata": {},
    "execution_count": 3,
    "data": {
        "application/vnd.dataresource+json": {
            "schema": {
                "fields": [
                    {
                        "name": "CustomerID"
                    },
                    {
                        "name": "FirstName"
                    },
                    {
                        "name": "LastName"
                    },
                    {
                        "name": "TotalOrders"
                    }
                ]
            },
            "data": [
                {
                    "CustomerID": "29485",
                    "FirstName": "Catherine",
                    "LastName": "Abel",
                    "TotalOrders": "1"
                },
                {
                    "CustomerID": "29531",
                    "FirstName": "Cory",
                    "LastName": "Booth",
                    "TotalOrders": "1"
                },
                {
                    "CustomerID": "29546",
                    "FirstName": "Christopher",
                    "LastName": "Beck",
                    "TotalOrders": "1"
                },
                {
                    "CustomerID": "29568",
                    "FirstName": "Donald",
                    "LastName": "Blanton",
                    "TotalOrders": "1"
                },
                {
                    "CustomerID": "29584",
                    "FirstName": "Walter",
                    "LastName": "Brian",
                    "TotalOrders": "1"
                },
                {
                    "CustomerID": "29612",
                    "FirstName": "Richard",
                    "LastName": "Byham",
                    "TotalOrders": "1"
                },
                {
                    "CustomerID": "29638",
                    "FirstName": "Rosmarie",
                    "LastName": "Carroll",
                    "TotalOrders": "1"
                },
                {
                    "CustomerID": "29644",
                    "FirstName": "Brigid",
                    "LastName": "Cavendish",
                    "TotalOrders": "1"
                },
                {
                    "CustomerID": "29653",
                    "FirstName": "Pei",
                    "LastName": "Chow",
                    "TotalOrders": "1"
                },
                {
                    "CustomerID": "29660",
                    "FirstName": "Anthony",
                    "LastName": "Chor",
                    "TotalOrders": "1"
                },
                {
                    "CustomerID": "29736",
                    "FirstName": "Terry",
                    "LastName": "Eminhizer",
                    "TotalOrders": "1"
                },
                {
                    "CustomerID": "29741",
                    "FirstName": "Janeth",
                    "LastName": "Esteves",
                    "TotalOrders": "1"
                },
                {
                    "CustomerID": "29781",
                    "FirstName": "Guy",
                    "LastName": "Gilbert",
                    "TotalOrders": "1"
                },
                {
                    "CustomerID": "29796",
                    "FirstName": "Jon",
                    "LastName": "Grande",
                    "TotalOrders": "1"
                },
                {
                    "CustomerID": "29847",
                    "FirstName": "David",
                    "LastName": "Hodgson",
                    "TotalOrders": "1"
                },
                {
                    "CustomerID": "29877",
                    "FirstName": "Joyce",
                    "LastName": "Jarvis",
                    "TotalOrders": "1"
                },
                {
                    "CustomerID": "29922",
                    "FirstName": "Pamala",
                    "LastName": "Kotc",
                    "TotalOrders": "1"
                },
                {
                    "CustomerID": "29929",
                    "FirstName": "Jeffrey",
                    "LastName": "Kurtz",
                    "TotalOrders": "1"
                },
                {
                    "CustomerID": "29932",
                    "FirstName": "Rebecca",
                    "LastName": "Laszlo",
                    "TotalOrders": "1"
                },
                {
                    "CustomerID": "29938",
                    "FirstName": "Frank",
                    "LastName": "Campbell",
                    "TotalOrders": "1"
                },
                {
                    "CustomerID": "29957",
                    "FirstName": "Kevin",
                    "LastName": "Liu",
                    "TotalOrders": "1"
                },
                {
                    "CustomerID": "29975",
                    "FirstName": "Walter",
                    "LastName": "Mays",
                    "TotalOrders": "1"
                },
                {
                    "CustomerID": "29982",
                    "FirstName": "Melissa",
                    "LastName": "Marple",
                    "TotalOrders": "1"
                },
                {
                    "CustomerID": "30019",
                    "FirstName": "Matthew",
                    "LastName": "Miller",
                    "TotalOrders": "1"
                },
                {
                    "CustomerID": "30025",
                    "FirstName": "Linda",
                    "LastName": "Mitchell",
                    "TotalOrders": "1"
                },
                {
                    "CustomerID": "30027",
                    "FirstName": "Joseph",
                    "LastName": "Mitzner",
                    "TotalOrders": "1"
                },
                {
                    "CustomerID": "30033",
                    "FirstName": "Vassar",
                    "LastName": "Stern",
                    "TotalOrders": "1"
                },
                {
                    "CustomerID": "30050",
                    "FirstName": "Krishna",
                    "LastName": "Sunkammurali",
                    "TotalOrders": "1"
                },
                {
                    "CustomerID": "30072",
                    "FirstName": "Andrea",
                    "LastName": "Thomsen",
                    "TotalOrders": "1"
                },
                {
                    "CustomerID": "30089",
                    "FirstName": "Michael John",
                    "LastName": "Troyer",
                    "TotalOrders": "1"
                },
                {
                    "CustomerID": "30102",
                    "FirstName": "Roger",
                    "LastName": "Van Houten",
                    "TotalOrders": "1"
                },
                {
                    "CustomerID": "30113",
                    "FirstName": "Raja",
                    "LastName": "Venugopal",
                    "TotalOrders": "1"
                }
            ]
        },
        "text/html": [
            "<table>",
            "<tr><th>CustomerID</th><th>FirstName</th><th>LastName</th><th>TotalOrders</th></tr>",
            "<tr><td>29485</td><td>Catherine</td><td>Abel</td><td>1</td></tr>",
            "<tr><td>29531</td><td>Cory</td><td>Booth</td><td>1</td></tr>",
            "<tr><td>29546</td><td>Christopher</td><td>Beck</td><td>1</td></tr>",
            "<tr><td>29568</td><td>Donald</td><td>Blanton</td><td>1</td></tr>",
            "<tr><td>29584</td><td>Walter</td><td>Brian</td><td>1</td></tr>",
            "<tr><td>29612</td><td>Richard</td><td>Byham</td><td>1</td></tr>",
            "<tr><td>29638</td><td>Rosmarie</td><td>Carroll</td><td>1</td></tr>",
            "<tr><td>29644</td><td>Brigid</td><td>Cavendish</td><td>1</td></tr>",
            "<tr><td>29653</td><td>Pei</td><td>Chow</td><td>1</td></tr>",
            "<tr><td>29660</td><td>Anthony</td><td>Chor</td><td>1</td></tr>",
            "<tr><td>29736</td><td>Terry</td><td>Eminhizer</td><td>1</td></tr>",
            "<tr><td>29741</td><td>Janeth</td><td>Esteves</td><td>1</td></tr>",
            "<tr><td>29781</td><td>Guy</td><td>Gilbert</td><td>1</td></tr>",
            "<tr><td>29796</td><td>Jon</td><td>Grande</td><td>1</td></tr>",
            "<tr><td>29847</td><td>David</td><td>Hodgson</td><td>1</td></tr>",
            "<tr><td>29877</td><td>Joyce</td><td>Jarvis</td><td>1</td></tr>",
            "<tr><td>29922</td><td>Pamala</td><td>Kotc</td><td>1</td></tr>",
            "<tr><td>29929</td><td>Jeffrey</td><td>Kurtz</td><td>1</td></tr>",
            "<tr><td>29932</td><td>Rebecca</td><td>Laszlo</td><td>1</td></tr>",
            "<tr><td>29938</td><td>Frank</td><td>Campbell</td><td>1</td></tr>",
            "<tr><td>29957</td><td>Kevin</td><td>Liu</td><td>1</td></tr>",
            "<tr><td>29975</td><td>Walter</td><td>Mays</td><td>1</td></tr>",
            "<tr><td>29982</td><td>Melissa</td><td>Marple</td><td>1</td></tr>",
            "<tr><td>30019</td><td>Matthew</td><td>Miller</td><td>1</td></tr>",
            "<tr><td>30025</td><td>Linda</td><td>Mitchell</td><td>1</td></tr>",
            "<tr><td>30027</td><td>Joseph</td><td>Mitzner</td><td>1</td></tr>",
            "<tr><td>30033</td><td>Vassar</td><td>Stern</td><td>1</td></tr>",
            "<tr><td>30050</td><td>Krishna</td><td>Sunkammurali</td><td>1</td></tr>",
            "<tr><td>30072</td><td>Andrea</td><td>Thomsen</td><td>1</td></tr>",
            "<tr><td>30089</td><td>Michael John</td><td>Troyer</td><td>1</td></tr>",
            "<tr><td>30102</td><td>Roger</td><td>Van Houten</td><td>1</td></tr>",
            "<tr><td>30113</td><td>Raja</td><td>Venugopal</td><td>1</td></tr>",
            "</table>"
        ]
    }
}
],
            "execution_count": 3
        }
    ]
}