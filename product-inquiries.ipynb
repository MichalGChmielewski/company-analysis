{
    "metadata": {
        "kernelspec": {
            "name": "SQL",
            "display_name": "SQL",
            "language": "sql"
        },
        "language_info": {
            "name": "sql",
            "version": ""
        }
    },
    "nbformat_minor": 2,
    "nbformat": 4,
    "cells": [
        {
            "cell_type": "markdown",
            "source": [
                "### <span style=\"font-size: 16.38px;\"><b>Product Analysis</b></span>"
            ],
            "metadata": {
                "azdata_cell_guid": "2a42a3ad-9cf9-4b49-8349-3fef05151851"
            },
            "attachments": {}
        },
        {
            "cell_type": "markdown",
            "source": [
                "List of all products with their prices and categories"
            ],
            "metadata": {
                "azdata_cell_guid": "74c9d19d-34a2-40fa-82e9-b86d2f729cfc"
            },
            "attachments": {}
        },
        {
            "cell_type": "code",
            "source": [
                "SELECT \r\n",
                "    p.ProductID,\r\n",
                "    p.Name AS ProductName,\r\n",
                "    pc.Name AS CategoryName,\r\n",
                "    p.ListPrice\r\n",
                "FROM\r\n",
                "    SalesLT.Product p\r\n",
                "LEFT JOIN\r\n",
                "    SalesLT.ProductCategory pc ON p.ProductCategoryID = pc.ProductCategoryID;"
            ],
            "metadata": {
                "azdata_cell_guid": "53dbe1ce-905a-4061-941b-5bc7e5742d39",
                "language": "sql"
            },
            "outputs": [],
            "execution_count": null
        },
        {
            "cell_type": "markdown",
            "source": [
                "Products sorted by price in descending order"
            ],
            "metadata": {
                "azdata_cell_guid": "eb9bd19f-f686-4876-ae83-ecdb2b55f1c3"
            },
            "attachments": {}
        },
        {
            "cell_type": "code",
            "source": [
                "SELECT \r\n",
                "    ProductID,\r\n",
                "    Name,\r\n",
                "    ListPrice\r\n",
                "FROM\r\n",
                "    SalesLT.Product\r\n",
                "ORDER BY\r\n",
                "    ListPrice DESC;"
            ],
            "metadata": {
                "azdata_cell_guid": "f5646e4a-f74f-43eb-81d0-a13f08f1d4c3",
                "language": "sql",
                "tags": []
            },
            "outputs": [],
            "execution_count": null
        },
        {
            "cell_type": "markdown",
            "source": [
                "Average product price in each category"
            ],
            "metadata": {
                "azdata_cell_guid": "3aced2b1-2ee0-4c2c-9a5d-b1de822f0387"
            },
            "attachments": {}
        },
        {
            "cell_type": "code",
            "source": [
                "SELECT \r\n",
                "    pc.Name AS CategoryName,\r\n",
                "    AVG(p.ListPrice) AS AvgPrice\r\n",
                "FROM\r\n",
                "    SalesLT.Product p\r\n",
                "JOIN\r\n",
                "    SalesLT.ProductCategory pc ON p.ProductCategoryID = pc.ProductCategoryID\r\n",
                "GROUP BY\r\n",
                "    pc.Name;"
            ],
            "metadata": {
                "azdata_cell_guid": "732a769f-c5ab-43e1-b1a3-67d74f015f43",
                "language": "sql"
            },
            "outputs": [],
            "execution_count": null
        },
        {
            "cell_type": "markdown",
            "source": [
                "Products that haven’t been sold in the past month"
            ],
            "metadata": {
                "azdata_cell_guid": "ad4bc726-76c1-48ac-850e-839ee53a716d"
            },
            "attachments": {}
        },
        {
            "cell_type": "code",
            "source": [
                "SELECT \r\n",
                "    p.ProductID,\r\n",
                "    p.Name\r\n",
                "FROM SalesLT.Product p\r\n",
                "WHERE p.ProductID NOT IN (\r\n",
                "    SELECT DISTINCT sod.ProductID\r\n",
                "    FROM SalesLT.SalesOrderDetail sod\r\n",
                "    JOIN SalesLT.SalesOrderHeader soh ON sod.SalesOrderID = soh.SalesOrderID\r\n",
                "    WHERE soh.OrderDate >= DATEADD(MONTH, -1, GETDATE())\r\n",
                ");"
            ],
            "metadata": {
                "azdata_cell_guid": "616ed16e-ad18-4bfb-9d61-62fa122e47f3",
                "language": "sql"
            },
            "outputs": [],
            "execution_count": null
        },
        {
            "cell_type": "markdown",
            "source": [
                "Top 5 most expensive products"
            ],
            "metadata": {
                "azdata_cell_guid": "a2d66520-3723-4d8f-8051-56cbd3b9360b"
            },
            "attachments": {}
        },
        {
            "cell_type": "code",
            "source": [
                "SELECT TOP 5 \r\n",
                "    ProductID,\r\n",
                "    Name,\r\n",
                "    ListPrice\r\n",
                "FROM SalesLT.Product\r\n",
                "ORDER BY ListPrice DESC;"
            ],
            "metadata": {
                "azdata_cell_guid": "5e120ff0-01ee-45ee-b489-685b61ca7ef9",
                "language": "sql"
            },
            "outputs": [],
            "execution_count": null
        }
    ]
}