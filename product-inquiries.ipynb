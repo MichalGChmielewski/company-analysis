{
    "metadata": {
        "kernelspec": {
            "name": "SQL",
            "display_name": "SQL",
            "language": "sql"
        },
        "language_info": {
            "name": "sql",
            "version": ""
        }
    },
    "nbformat_minor": 2,
    "nbformat": 4,
    "cells": [
        {
            "cell_type": "markdown",
            "source": [
                "### **Product inquiries**"
            ],
            "metadata": {
                "azdata_cell_guid": "2a42a3ad-9cf9-4b49-8349-3fef05151851"
            },
            "attachments": {}
        },
        {
            "cell_type": "markdown",
            "source": [
                ""
            ],
            "metadata": {
                "azdata_cell_guid": "74c9d19d-34a2-40fa-82e9-b86d2f729cfc"
            }
        }
    ]
}