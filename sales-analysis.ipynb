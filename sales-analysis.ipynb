{
    "metadata": {
        "kernelspec": {
            "name": "SQL",
            "display_name": "SQL",
            "language": "sql"
        },
        "language_info": {
            "name": "sql",
            "version": ""
        }
    },
    "nbformat_minor": 2,
    "nbformat": 4,
    "cells": [
        {
            "cell_type": "markdown",
            "source": [
                "### **Sales Analysis**"
            ],
            "metadata": {
                "azdata_cell_guid": "2a5dcebf-c06d-4fe0-89ff-1b652f8a81eb"
            },
            "attachments": {}
        }
    ]
}