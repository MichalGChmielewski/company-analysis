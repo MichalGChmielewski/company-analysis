{
    "metadata": {
        "kernelspec": {
            "name": "SQL",
            "display_name": "SQL",
            "language": "sql"
        },
        "language_info": {
            "name": "sql",
            "version": ""
        }
    },
    "nbformat_minor": 2,
    "nbformat": 4,
    "cells": [
        {
            "cell_type": "markdown",
            "source": [
                "### **Sales Analysis**"
            ],
            "metadata": {
                "azdata_cell_guid": "2a5dcebf-c06d-4fe0-89ff-1b652f8a81eb"
            },
            "attachments": {}
        },
        {
            "cell_type": "markdown",
            "source": [
                "Total sales in the last quarter"
            ],
            "metadata": {
                "azdata_cell_guid": "3bc2da91-c499-4dc7-8e2e-11135dfe4155"
            },
            "attachments": {}
        },
        {
            "cell_type": "code",
            "source": [
                "SELECT \r\n",
                "    SUM(TotalDue) AS TotalSalesLastQuarter\r\n",
                "FROM\r\n",
                "    SalesLT.SalesOrderHeader\r\n",
                "WHERE\r\n",
                "    OrderDate >= DATEADD(QUARTER, -1, GETDATE());"
            ],
            "metadata": {
                "azdata_cell_guid": "8ba947ef-f459-45a3-8cab-e6c7dd394fa4",
                "language": "sql"
            },
            "outputs": [],
            "execution_count": null
        },
        {
            "cell_type": "markdown",
            "source": [
                "Average number of products sold per transaction"
            ],
            "metadata": {
                "azdata_cell_guid": "7635eb49-3eb8-4951-b9c5-0efb2ac1d732"
            },
            "attachments": {}
        },
        {
            "cell_type": "code",
            "source": [
                "SELECT \r\n",
                "    AVG(OrderQty) AS AvgItemsPerOrder\r\n",
                "FROM\r\n",
                "    SalesLT.SalesOrderDetail;"
            ],
            "metadata": {
                "azdata_cell_guid": "2a95d7e2-aeb3-4e8e-a84a-5e652a8823b2",
                "language": "sql"
            },
            "outputs": [],
            "execution_count": null
        },
        {
            "cell_type": "markdown",
            "source": [
                "Top 5 customers with the highest total purchase value"
            ],
            "metadata": {
                "azdata_cell_guid": "35ee1593-c480-470f-8e0c-5cbf04e20036"
            },
            "attachments": {}
        },
        {
            "cell_type": "code",
            "source": [
                "SELECT TOP 5 \r\n",
                "    c.CustomerID,\r\n",
                "    c.FirstName,\r\n",
                "    c.LastName,\r\n",
                "    SUM(soh.TotalDue) AS TotalSpent\r\n",
                "FROM\r\n",
                "    SalesLT.Customer c\r\n",
                "JOIN\r\n",
                "    SalesLT.SalesOrderHeader soh ON c.CustomerID = soh.CustomerID\r\n",
                "GROUP BY\r\n",
                "    c.CustomerID, c.FirstName, c.LastName\r\n",
                "ORDER BY\r\n",
                "    TotalSpent DESC;"
            ],
            "metadata": {
                "azdata_cell_guid": "fe697615-2ab0-435b-8726-c1d3a52123f6",
                "language": "sql"
            },
            "outputs": [],
            "execution_count": null
        },
        {
            "cell_type": "markdown",
            "source": [
                "Month-over-month sales comparison of the 5 best-selling products"
            ],
            "metadata": {
                "azdata_cell_guid": "cfac0c34-12f5-414f-807e-fb5d08f8744a"
            },
            "attachments": {}
        },
        {
            "cell_type": "code",
            "source": [
                "WITH TopProducts AS (\r\n",
                "    SELECT TOP 5 \r\n",
                "        ProductID,\r\n",
                "        SUM(OrderQty) AS TotalSold\r\n",
                "    FROM\r\n",
                "        SalesLT.SalesOrderDetail\r\n",
                "    GROUP BY\r\n",
                "        ProductID\r\n",
                "    ORDER BY\r\n",
                "        TotalSold DESC\r\n",
                "),\r\n",
                "\r\n",
                "MonthlySales AS (\r\n",
                "    SELECT \r\n",
                "        sod.ProductID,\r\n",
                "        FORMAT(soh.OrderDate, 'yyyy-MM') AS Month,\r\n",
                "        SUM(sod.OrderQty) AS MonthlyQty\r\n",
                "    FROM\r\n",
                "        SalesLT.SalesOrderDetail sod\r\n",
                "    JOIN\r\n",
                "        SalesLT.SalesOrderHeader soh ON sod.SalesOrderID = soh.SalesOrderID\r\n",
                "    WHERE\r\n",
                "        sod.ProductID IN (SELECT ProductID FROM TopProducts)\r\n",
                "    GROUP BY\r\n",
                "        sod.ProductID, FORMAT(soh.OrderDate, 'yyyy-MM')\r\n",
                ")\r\n",
                "\r\n",
                "SELECT \r\n",
                "    p.ProductID,\r\n",
                "    pr.Name AS ProductName,\r\n",
                "    ms.Month,\r\n",
                "    ms.MonthlyQty\r\n",
                "FROM\r\n",
                "    MonthlySales ms\r\n",
                "JOIN\r\n",
                "    SalesLT.Product pr ON ms.ProductID = pr.ProductID\r\n",
                "JOIN\r\n",
                "    TopProducts p ON ms.ProductID = p.ProductID\r\n",
                "ORDER BY\r\n",
                "    p.ProductID, ms.Month;"
            ],
            "metadata": {
                "azdata_cell_guid": "f5d0c012-01c1-44e0-bd5c-5dc486133de2",
                "language": "sql"
            },
            "outputs": [],
            "execution_count": null
        },
        {
            "cell_type": "markdown",
            "source": [
                "Products with the highest month-over-month sales growth"
            ],
            "metadata": {
                "azdata_cell_guid": "1ace4355-d54c-4a41-b1c2-e537d7096eed"
            },
            "attachments": {}
        },
        {
            "cell_type": "code",
            "source": [
                "WITH MonthlySales AS (\r\n",
                "    SELECT \r\n",
                "        ProductID,\r\n",
                "        FORMAT(soh.OrderDate, 'yyyy-MM') AS Month,\r\n",
                "        SUM(sod.LineTotal) AS MonthlyRevenue\r\n",
                "    FROM\r\n",
                "        SalesLT.SalesOrderDetail sod\r\n",
                "    JOIN\r\n",
                "        SalesLT.SalesOrderHeader soh ON sod.SalesOrderID = soh.SalesOrderID\r\n",
                "    GROUP BY\r\n",
                "        ProductID, FORMAT(soh.OrderDate, 'yyyy-MM')\r\n",
                "),\r\n",
                "SalesDiff AS (\r\n",
                "    SELECT \r\n",
                "        ms1.ProductID,\r\n",
                "        ms1.Month AS CurrentMonth,\r\n",
                "        ms1.MonthlyRevenue - ISNULL(ms2.MonthlyRevenue, 0) AS RevenueGrowth\r\n",
                "    FROM\r\n",
                "        MonthlySales ms1\r\n",
                "    LEFT JOIN\r\n",
                "        MonthlySales ms2 \r\n",
                "        ON ms1.ProductID = ms2.ProductID \r\n",
                "        AND DATEFROMPARTS(LEFT(ms1.Month, 4), RIGHT(ms1.Month, 2), 1) = DATEADD(MONTH, 1, DATEFROMPARTS(LEFT(ms2.Month, 4), RIGHT(ms2.Month, 2), 1))\r\n",
                ")\r\n",
                "SELECT TOP 5 \r\n",
                "    ProductID,\r\n",
                "    CurrentMonth,\r\n",
                "    RevenueGrowth\r\n",
                "FROM\r\n",
                "    SalesDiff\r\n",
                "ORDER BY\r\n",
                "    RevenueGrowth DESC;"
            ],
            "metadata": {
                "azdata_cell_guid": "95adb368-8aa5-4827-a051-fbcd6c9725b9",
                "language": "sql"
            },
            "outputs": [],
            "execution_count": null
        }
    ]
}