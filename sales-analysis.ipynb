{
    "metadata": {
        "kernelspec": {
            "name": "SQL",
            "display_name": "SQL",
            "language": "sql"
        },
        "language_info": {
            "name": "sql",
            "version": ""
        }
    },
    "nbformat_minor": 2,
    "nbformat": 4,
    "cells": [
        {
            "cell_type": "markdown",
            "source": [
                "### **Sales Analysis**"
            ],
            "metadata": {
                "azdata_cell_guid": "2a5dcebf-c06d-4fe0-89ff-1b652f8a81eb"
            },
            "attachments": {}
        },
        {
            "cell_type": "markdown",
            "source": [
                "Total sales in the last quarter"
            ],
            "metadata": {
                "azdata_cell_guid": "3bc2da91-c499-4dc7-8e2e-11135dfe4155"
            },
            "attachments": {}
        },
        {
            "cell_type": "code",
            "source": [
                "SELECT \r\n",
                "    SUM(TotalDue) AS TotalSalesLastQuarter\r\n",
                "FROM SalesLT.SalesOrderHeader\r\n",
                "WHERE OrderDate >= DATEADD(QUARTER, -1, GETDATE());"
            ],
            "metadata": {
                "azdata_cell_guid": "8ba947ef-f459-45a3-8cab-e6c7dd394fa4",
                "language": "sql"
            },
            "outputs": [],
            "execution_count": null
        },
        {
            "cell_type": "markdown",
            "source": [
                "Average number of products sold per transaction"
            ],
            "metadata": {
                "azdata_cell_guid": "7635eb49-3eb8-4951-b9c5-0efb2ac1d732"
            },
            "attachments": {}
        },
        {
            "cell_type": "code",
            "source": [
                "SELECT \r\n",
                "    AVG(OrderQty) AS AvgItemsPerOrder\r\n",
                "FROM SalesLT.SalesOrderDetail;"
            ],
            "metadata": {
                "azdata_cell_guid": "2a95d7e2-aeb3-4e8e-a84a-5e652a8823b2",
                "language": "sql"
            },
            "outputs": [],
            "execution_count": null
        },
        {
            "cell_type": "markdown",
            "source": [
                "Top 5 customers with the highest total purchase value"
            ],
            "metadata": {
                "azdata_cell_guid": "35ee1593-c480-470f-8e0c-5cbf04e20036"
            },
            "attachments": {}
        },
        {
            "cell_type": "code",
            "source": [
                "SELECT TOP 5 \r\n",
                "    c.CustomerID,\r\n",
                "    c.FirstName,\r\n",
                "    c.LastName,\r\n",
                "    SUM(soh.TotalDue) AS TotalSpent\r\n",
                "FROM SalesLT.Customer c\r\n",
                "JOIN SalesLT.SalesOrderHeader soh ON c.CustomerID = soh.CustomerID\r\n",
                "GROUP BY c.CustomerID, c.FirstName, c.LastName\r\n",
                "ORDER BY TotalSpent DESC;"
            ],
            "metadata": {
                "azdata_cell_guid": "fe697615-2ab0-435b-8726-c1d3a52123f6",
                "language": "sql"
            },
            "outputs": [],
            "execution_count": null
        },
        {
            "cell_type": "markdown",
            "source": [
                "Month-over-month sales comparison"
            ],
            "metadata": {
                "azdata_cell_guid": "895f18f9-dc98-4fb4-acd6-aae7b6d80f7e"
            },
            "attachments": {}
        },
        {
            "cell_type": "code",
            "source": [
                "SELECT \r\n",
                "    FORMAT(OrderDate, 'yyyy-MM') AS Month,\r\n",
                "    SUM(TotalDue) AS MonthlySales\r\n",
                "FROM SalesLT.SalesOrderHeader\r\n",
                "GROUP BY FORMAT(OrderDate, 'yyyy-MM')\r\n",
                "ORDER BY Month;"
            ],
            "metadata": {
                "azdata_cell_guid": "f5d0c012-01c1-44e0-bd5c-5dc486133de2",
                "language": "sql"
            },
            "outputs": [
{
    "output_type": "display_data",
    "data": {
        "text/html": "(1 row affected)"
    },
    "metadata": {}
}, {
    "output_type": "display_data",
    "data": {
        "text/html": "Total execution time: 00:00:00.450"
    },
    "metadata": {}
}, {
    "output_type": "execute_result",
    "metadata": {},
    "execution_count": 4,
    "data": {
        "application/vnd.dataresource+json": {
            "schema": {
                "fields": [
                    {
                        "name": "Month"
                    },
                    {
                        "name": "MonthlySales"
                    }
                ]
            },
            "data": [
                {
                    "Month": "2008-06",
                    "MonthlySales": "956303,5949"
                }
            ]
        },
        "text/html": [
            "<table>",
            "<tr><th>Month</th><th>MonthlySales</th></tr>",
            "<tr><td>2008-06</td><td>956303,5949</td></tr>",
            "</table>"
        ]
    }
}
],
            "execution_count": 4
        }
    ]
}